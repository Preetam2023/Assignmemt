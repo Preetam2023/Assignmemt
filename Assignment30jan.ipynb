{
 "cells": [
  {
   "cell_type": "code",
   "execution_count": null,
   "id": "8fae0a40-d052-45fc-9177-8db0a0cc6aa8",
   "metadata": {},
   "outputs": [],
   "source": [
    "1.While loops to run the same task multiple times and For loops to loop once over list data.\n",
    "A while loop performs an operation while a certain condition is true.\n",
    "Ex - while condition:\n",
    "          code here\n",
    "    if I want to print 1-10 number then code will be -\n",
    "    i=1\n",
    "    while(i<11):\n",
    "        print(i)\n",
    "        i+=1\n",
    "        \n",
    "For loop is used for iterating over a sequence (that is either a list, a tuple, a dictionary, a set, or a string).\n",
    "Ex - fruits = [\"apple\", \"banana\", \"cherry\"]\n",
    "for x in fruits:\n",
    "  print(x)"
   ]
  },
  {
   "cell_type": "code",
   "execution_count": 1,
   "id": "3f1e88cf-3ed8-4976-92d9-cf73a3efcb4d",
   "metadata": {},
   "outputs": [
    {
     "name": "stdout",
     "output_type": "stream",
     "text": [
      "sum: 55\n",
      "Product: 3628800\n",
      "Sum: 55\n",
      "Product: 3628800\n"
     ]
    }
   ],
   "source": [
    "#2.Product and sum of first 10 natural number\n",
    "\n",
    "#while loop\n",
    "i=1\n",
    "sum=0\n",
    "mul=1\n",
    "while(i<=10):\n",
    "    sum+=i\n",
    "    mul*=i\n",
    "    i+=1\n",
    "print(\"sum:\",sum)\n",
    "print(\"Product:\",mul)\n",
    "#for loop\n",
    "sum=0\n",
    "mul=1\n",
    "for i in range(1,11):\n",
    "    sum+=i\n",
    "    mul*=i\n",
    "    i+=1\n",
    "print(\"Sum:\",sum)\n",
    "print(\"Product:\",mul)"
   ]
  },
  {
   "cell_type": "code",
   "execution_count": 2,
   "id": "2d30224a-f485-4e58-ba70-a1432525e360",
   "metadata": {},
   "outputs": [
    {
     "name": "stdin",
     "output_type": "stream",
     "text": [
      "Unit: 310\n"
     ]
    },
    {
     "name": "stdout",
     "output_type": "stream",
     "text": [
      "2250.0\n"
     ]
    }
   ],
   "source": [
    "#3.Electricity bill\n",
    "unit=int(input(\"Unit:\"))\n",
    "cost=0\n",
    "while(unit>100):\n",
    "    if(unit>300):\n",
    "        cost+=((unit-300)*20)\n",
    "        unit=300\n",
    "    elif(unit>200):\n",
    "        cost+=((unit-200)*10)\n",
    "        unit=200\n",
    "    elif(unit>100):\n",
    "        cost+=((unit-100)*6)\n",
    "        unit=100\n",
    "cost+=unit*4.5\n",
    "print(cost)"
   ]
  },
  {
   "cell_type": "code",
   "execution_count": 5,
   "id": "83a5f568-a933-40b4-b4cf-c844398cbbf5",
   "metadata": {},
   "outputs": [
    {
     "name": "stdout",
     "output_type": "stream",
     "text": [
      "[2, 4, 5, 6, 8, 10, 12, 14, 15, 16, 18, 20, 22, 24, 25, 26, 28, 30, 32, 34, 35, 36, 38, 40, 42, 44, 45, 46, 48, 50, 52, 54, 55, 56, 58, 60, 62, 64, 65, 66, 68, 70, 72, 74, 75, 76, 78, 80, 82, 84, 85, 86, 88, 90, 92, 94, 95, 96, 98, 100]\n",
      "[100, 100, 100, 100, 100, 100, 100, 100, 100, 100, 100, 100, 100, 100, 100, 100, 100, 100, 100, 100, 100, 100, 100, 100, 100, 100, 100, 100, 100, 100, 100, 100, 100, 100, 100, 100, 100, 100, 100, 100, 100, 100, 100, 100, 100, 100, 100, 100, 100, 100, 100, 100, 100, 100, 100, 100, 100, 100, 100, 100, 100, 100, 100, 100, 100, 100, 100, 100, 100, 100, 100, 100, 100, 100, 100, 100, 100, 100, 100, 100, 100, 100, 100, 100, 100, 100, 100, 100, 100, 100, 100, 100, 100, 100, 100, 100, 100, 100, 100, 100]\n"
     ]
    }
   ],
   "source": [
    "#Cube of 1-100 and make a list which cubes divisable by 4 or 5\n",
    "numbers=list(range(1,101))\n",
    "final_list = []\n",
    "for number in numbers:\n",
    "    cube=number**3\n",
    "    if cube%4==0 or cube%5==0:\n",
    "        final_list.append(number)\n",
    "print(final_list)\n",
    "\n",
    "numbers=list(range(1,101))\n",
    "final_list2 = []\n",
    "index=0\n",
    "while index<len(numbers):\n",
    "    cube=number**3\n",
    "    if cube%4==0 or cube%5==0:\n",
    "        final_list2.append(number)\n",
    "    index+=1\n",
    "        \n",
    "print(final_list2)"
   ]
  },
  {
   "cell_type": "code",
   "execution_count": 5,
   "id": "2ad11a29-5c8e-4457-b089-5c4214d9b4ec",
   "metadata": {},
   "outputs": [
    {
     "name": "stdout",
     "output_type": "stream",
     "text": [
      "11\n"
     ]
    }
   ],
   "source": [
    "#Vowel count\n",
    "str=\"I want to become a data scientist\"\n",
    "l=['a','e','i','o','u']\n",
    "count=0\n",
    "for i in str:\n",
    "    if i in l:\n",
    "        count+=1\n",
    "print(count)"
   ]
  }
 ],
 "metadata": {
  "kernelspec": {
   "display_name": "Python 3 (ipykernel)",
   "language": "python",
   "name": "python3"
  },
  "language_info": {
   "codemirror_mode": {
    "name": "ipython",
    "version": 3
   },
   "file_extension": ".py",
   "mimetype": "text/x-python",
   "name": "python",
   "nbconvert_exporter": "python",
   "pygments_lexer": "ipython3",
   "version": "3.10.8"
  }
 },
 "nbformat": 4,
 "nbformat_minor": 5
}
