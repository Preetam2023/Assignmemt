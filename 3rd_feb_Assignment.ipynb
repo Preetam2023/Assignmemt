{
 "cells": [
  {
   "cell_type": "code",
   "execution_count": 4,
   "id": "760f2c79-69a3-444c-a56f-5909e029f1ca",
   "metadata": {},
   "outputs": [
    {
     "data": {
      "text/plain": [
       "[1, 3, 5, 7, 9, 11, 13, 15, 17, 19, 21, 23, 25]"
      ]
     },
     "execution_count": 4,
     "metadata": {},
     "output_type": "execute_result"
    }
   ],
   "source": [
    "#1. Q1. Which keyword is used to create a function? Create a function to return a list of odd numbers in the range of 1 to 25.\n",
    "\n",
    "#'def' keyword is used to create a function.\n",
    "\n",
    "def odd_num():\n",
    "    odd=[]\n",
    "    for i in range(1,26):\n",
    "        if i%2!=0:\n",
    "            odd.append(i)\n",
    "    return odd\n",
    "odd_num()"
   ]
  },
  {
   "cell_type": "code",
   "execution_count": 21,
   "id": "5fbe3b53-f62b-466c-890b-5fdf43640470",
   "metadata": {},
   "outputs": [
    {
     "name": "stdout",
     "output_type": "stream",
     "text": [
      "6\n",
      "22\n",
      "name: Preetam\n",
      "age: 20\n",
      "city: Kolkata\n"
     ]
    }
   ],
   "source": [
    "#Q2. Why *args and **kwargs is used in some functions? Create a function each for *args and **kwargs to demonstrate their use.\n",
    "\n",
    "'''The `*args` and `**kwargs` parameters are used in Python functions when we want to accept a variable number of arguments.\n",
    "The `*args` parameter allows a function to accept any number of positional arguments.\n",
    "It collects all the positional arguments into a tuple, which can be iterated or accessed within the function.'''\n",
    "\n",
    "def sum_numbers(*args):\n",
    "    total = 0\n",
    "    for num in args:\n",
    "        total += num\n",
    "    return total\n",
    "print(sum_numbers(1, 2, 3))  \n",
    "print(sum_numbers(4, 5, 6, 7))\n",
    "\n",
    "\n",
    "'''The `**kwargs` parameter allows a function to accept any number of keyword arguments.\n",
    "It collects all the keyword arguments into a dictionary, where the keys are the argument names and the values are the argument values.'''\n",
    "\n",
    "def newkwargs(**kwargs):\n",
    "    for key, value in kwargs.items():\n",
    "        print(f\"{key}: {value}\")\n",
    "\n",
    "newkwargs(name=\"Preetam\", age=20, city=\"Kolkata\")\n",
    "\n",
    "# '''Both *args and **kwargs provide flexibility when designing functions that need to handle a varying number of arguments.\n",
    "# *args is used for positional arguments, while **kwargs is used for keyword arguments. '''"
   ]
  },
  {
   "cell_type": "code",
   "execution_count": 15,
   "id": "f80eeae9-bfd6-44f8-a1f6-03c03a40aefd",
   "metadata": {},
   "outputs": [
    {
     "name": "stdout",
     "output_type": "stream",
     "text": [
      "2\n",
      "4\n",
      "6\n",
      "8\n",
      "10\n"
     ]
    }
   ],
   "source": [
    "'''Q3. What is an iterator in python? Name the method used to initialise the iterator object and the method\n",
    "used for iteration. Use these methods to print the first five elements of the given list [2, 4, 6, 8, 10, 12, 14,\n",
    "16, 18, 20].'''\n",
    "\n",
    "'''An iterator in Python is an object that allows us to loop over a collection of elements or iterate through a sequence of values.\n",
    "It provides a simple way to access each element in the collection without the need for indexing or knowing the internal structure of the collection.\n",
    "To initialize an iterator object, we can use the iter() function, passing the iterable object as the argument.\n",
    "This function returns an iterator object that you can use to iterate over the elements.\n",
    "To iterate over the elements using the iterator object, you can use a loop or the next() function. '''\n",
    "\n",
    "l=[2,4,6,8,10,12,14,16,18,20]\n",
    "new_l=iter(l)\n",
    "for i in range(5):\n",
    "    print(next(new_l))\n"
   ]
  },
  {
   "cell_type": "code",
   "execution_count": 29,
   "id": "bbf5bf75-0278-4406-92e4-8fb184248576",
   "metadata": {},
   "outputs": [
    {
     "name": "stdout",
     "output_type": "stream",
     "text": [
      "2\n",
      "6\n",
      "10\n"
     ]
    }
   ],
   "source": [
    "#Q4. What is a generator function in python? Why yield keyword is used? Give an example of a generator function.\n",
    "\n",
    "'''\n",
    "In Python, a generator function is a special type of function that returns an iterator.\n",
    "It uses the yield keyword instead of return to provide a sequence of values, one at a time, on-demand.\n",
    "The generator function generates values on-the-fly, which makes it memory efficient and \n",
    "suitable for working with large data sets or infinite sequences.\n",
    "\n",
    "The yield keyword is used in a generator function to temporarily pause the function's execution and yield a value to the caller.\n",
    "When the function is called again, it resumes from where it left off, maintaining its internal state.\n",
    "This allows the generator function to produce a series of values without having to store them all in memory. '''\n",
    "\n",
    "def even_numbers(n):\n",
    "    for num in range(n + 1): \n",
    "        if num % 2 == 0:\n",
    "            yield num\n",
    "\n",
    "a = even_numbers(10)\n",
    "for num in a:\n",
    "    print(next(a))\n",
    "\n"
   ]
  },
  {
   "cell_type": "code",
   "execution_count": 6,
   "id": "35892661-fd99-4b80-9a5e-edab7aa192e8",
   "metadata": {},
   "outputs": [
    {
     "name": "stdout",
     "output_type": "stream",
     "text": [
      "3\n",
      "5\n",
      "5\n",
      "5\n",
      "7\n",
      "7\n",
      "7\n",
      "7\n",
      "7\n",
      "9\n",
      "11\n",
      "11\n",
      "11\n",
      "11\n",
      "11\n",
      "11\n",
      "11\n",
      "11\n",
      "11\n",
      "13\n",
      "13\n"
     ]
    }
   ],
   "source": [
    "#Q5. Create a generator function for prime numbers less than 1000. Use the next() method to print the\n",
    "first 20 prime numbers.\n",
    "def prime():\n",
    "    for i in range(2,1001):\n",
    "        for x in range(2, i):\n",
    "            if (i%x==0):\n",
    "                break\n",
    "            else:\n",
    "                yield i\n",
    "prime_list=prime()\n",
    "for i in range(21):\n",
    "    print(next(prime_list))"
   ]
  },
  {
   "cell_type": "code",
   "execution_count": 5,
   "id": "fdbb94e3-11ca-4d68-96a1-1b7f56168235",
   "metadata": {},
   "outputs": [
    {
     "name": "stdout",
     "output_type": "stream",
     "text": [
      "0\n",
      "1\n",
      "1\n",
      "2\n",
      "3\n",
      "5\n",
      "8\n",
      "13\n",
      "21\n",
      "34\n",
      "55\n"
     ]
    }
   ],
   "source": [
    "#Q6. Write a python program to print the first 10 Fibonacci numbers using a while loop.\n",
    "i=0\n",
    "a,b=0,1\n",
    "while i<=10:\n",
    "    print(a)\n",
    "    c=a+b\n",
    "    a=b\n",
    "    b=c\n",
    "    i+=1\n"
   ]
  },
  {
   "cell_type": "code",
   "execution_count": 14,
   "id": "2ea5f208-9c03-43c1-b465-d7652bd36aac",
   "metadata": {},
   "outputs": [
    {
     "name": "stdout",
     "output_type": "stream",
     "text": [
      "['p', 'w', 's', 'k', 'i', 'l', 'l', 's']\n"
     ]
    }
   ],
   "source": [
    "#Q7. Write a List Comprehension to iterate through the given string: ‘pwskills’. Expected output: ['p', 'w', 's', 'k', 'i', 'l', 'l', 's']\n",
    "s=\"pwskills\"\n",
    "l=[i for i in s]\n",
    "print(l)"
   ]
  },
  {
   "cell_type": "code",
   "execution_count": 8,
   "id": "a5acf300-03f1-41e2-bde0-ca02f5443a1d",
   "metadata": {},
   "outputs": [
    {
     "name": "stdin",
     "output_type": "stream",
     "text": [
      "Enter a number to cheak palindrome: 556655\n"
     ]
    },
    {
     "name": "stdout",
     "output_type": "stream",
     "text": [
      "It is a palindrome.\n"
     ]
    }
   ],
   "source": [
    "#Q8. Write a python program to check whether a given number is Palindrome or not using a while loop.\n",
    "a=input(\"Enter a number to cheak palindrome:\")\n",
    "b=a[::-1]\n",
    "if(a==b):\n",
    "    print(\"It is a palindrome.\")\n",
    "else:\n",
    "    print(\"It is not a palindrome.\")"
   ]
  },
  {
   "cell_type": "code",
   "execution_count": 12,
   "id": "d004717d-bc58-475c-8dc9-d5205e91e43c",
   "metadata": {},
   "outputs": [
    {
     "name": "stdout",
     "output_type": "stream",
     "text": [
      "[1, 3, 5, 7, 9, 11, 13, 15, 17, 19, 21, 23, 25, 27, 29, 31, 33, 35, 37, 39, 41, 43, 45, 47, 49, 51, 53, 55, 57, 59, 61, 63, 65, 67, 69, 71, 73, 75, 77, 79, 81, 83, 85, 87, 89, 91, 93, 95, 97, 99]\n"
     ]
    }
   ],
   "source": [
    "#Q9. Write a code to print odd numbers from 1 to 100 using list comprehension.\n",
    "l=list(range(101))\n",
    "l1=[i for i in l if i%2!=0]\n",
    "print(l1)"
   ]
  }
 ],
 "metadata": {
  "kernelspec": {
   "display_name": "Python 3 (ipykernel)",
   "language": "python",
   "name": "python3"
  },
  "language_info": {
   "codemirror_mode": {
    "name": "ipython",
    "version": 3
   },
   "file_extension": ".py",
   "mimetype": "text/x-python",
   "name": "python",
   "nbconvert_exporter": "python",
   "pygments_lexer": "ipython3",
   "version": "3.10.8"
  }
 },
 "nbformat": 4,
 "nbformat_minor": 5
}
