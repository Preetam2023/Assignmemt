{
 "cells": [
  {
   "cell_type": "code",
   "execution_count": 6,
   "id": "5716e6f6-62e6-4a7b-a07b-2dd355a65d67",
   "metadata": {},
   "outputs": [
    {
     "name": "stdout",
     "output_type": "stream",
     "text": [
      "1\n"
     ]
    }
   ],
   "source": [
    "#Q1. Create a function which will take a list as an argument and return the product of all the numbers after creating a flat list.\n",
    "#Use the below-given list as an argument for your function.\n",
    "\n",
    "l=[1,2,3,4, [44,55,66, True], False, (34,56,78,89,34), {1,2,3,3,2,1}, {1:34, \"key2\": [55, 67, 78, 89], 4: (45,\n",
    "22, 61, 34)}, [56, 'data science'], 'Machine Learning']\n",
    "def product(l):\n",
    "    mul=1\n",
    "    for i in l:\n",
    "        if type(i)==int:\n",
    "            mul*=i\n",
    "        elif type(i)==list or type(i)==set or type(i)==dict or type(i)==tuple:\n",
    "            for j in i:\n",
    "                if type(j)==int:\n",
    "                    mul*=j\n",
    "    return mul\n",
    "print(product(l))"
   ]
  },
  {
   "cell_type": "code",
   "execution_count": 14,
   "id": "c90d1271-3aff-425f-b383-f9a2b503de57",
   "metadata": {},
   "outputs": [
    {
     "name": "stdin",
     "output_type": "stream",
     "text": [
      " I want to become a Data Scientist.\n"
     ]
    },
    {
     "name": "stdout",
     "output_type": "stream",
     "text": [
      "i$wznt$to$yexome$z$dztz$sxientist.\n"
     ]
    }
   ],
   "source": [
    "#Q2. Write a python program for encrypting a message sent to you by your friend. The logic of encryption\n",
    "# should be such that, for a the output should be z. For b, the output should be y. For c, the output should\n",
    "# be x respectively. Also, the whitespace should be replaced with a dollar sign. Keep the punctuation\n",
    "# marks unchanged.\n",
    "\n",
    "str=input()\n",
    "str2=str.lower().replace('a','z').replace('b','y').replace('c','x').replace(' ','$')\n",
    "print(str2)"
   ]
  },
  {
   "cell_type": "code",
   "execution_count": null,
   "id": "4bb90d33-5ea2-42b7-8929-0e950d4ea722",
   "metadata": {},
   "outputs": [],
   "source": []
  }
 ],
 "metadata": {
  "kernelspec": {
   "display_name": "Python 3 (ipykernel)",
   "language": "python",
   "name": "python3"
  },
  "language_info": {
   "codemirror_mode": {
    "name": "ipython",
    "version": 3
   },
   "file_extension": ".py",
   "mimetype": "text/x-python",
   "name": "python",
   "nbconvert_exporter": "python",
   "pygments_lexer": "ipython3",
   "version": "3.10.8"
  }
 },
 "nbformat": 4,
 "nbformat_minor": 5
}
